{
 "cells": [
  {
   "cell_type": "code",
   "execution_count": 2,
   "metadata": {},
   "outputs": [],
   "source": [
    "import numpy as np\n",
    "from keras.models import Sequential\n",
    "from keras.layers import Dense, Dropout"
   ]
  },
  {
   "cell_type": "code",
   "execution_count": 3,
   "metadata": {},
   "outputs": [],
   "source": [
    "x_train = np.random.random((1000, 20))\n",
    "y_train = np.random.randint(2, size=(1000,1))\n",
    "x_test = np.random.random((100,20))\n",
    "y_test = np.random.randint(2, size=(100,1))"
   ]
  },
  {
   "cell_type": "code",
   "execution_count": 5,
   "metadata": {},
   "outputs": [],
   "source": [
    "model = Sequential()\n",
    "model.add(Dense(64, input_dim=20, activation='relu'))\n",
    "model.add(Dropout(0.5))\n",
    "model.add(Dense(64, activation='relu'))\n",
    "model.add(Dropout(0.5))\n",
    "model.add(Dense(1, activation='sigmoid'))"
   ]
  },
  {
   "cell_type": "code",
   "execution_count": 6,
   "metadata": {},
   "outputs": [],
   "source": [
    "model.compile(loss='binary_crossentropy', optimizer='rmsprop', metrics=['accuracy'])"
   ]
  },
  {
   "cell_type": "code",
   "execution_count": 7,
   "metadata": {},
   "outputs": [
    {
     "name": "stdout",
     "output_type": "stream",
     "text": [
      "Epoch 1/20\n",
      "1000/1000 [==============================] - 1s 932us/step - loss: 0.7266 - acc: 0.5340\n",
      "Epoch 2/20\n",
      "1000/1000 [==============================] - 0s 60us/step - loss: 0.7207 - acc: 0.5010\n",
      "Epoch 3/20\n",
      "1000/1000 [==============================] - 0s 39us/step - loss: 0.7058 - acc: 0.5110\n",
      "Epoch 4/20\n",
      "1000/1000 [==============================] - 0s 50us/step - loss: 0.7113 - acc: 0.5090\n",
      "Epoch 5/20\n",
      "1000/1000 [==============================] - 0s 53us/step - loss: 0.7087 - acc: 0.5050\n",
      "Epoch 6/20\n",
      "1000/1000 [==============================] - 0s 36us/step - loss: 0.7146 - acc: 0.4650\n",
      "Epoch 7/20\n",
      "1000/1000 [==============================] - 0s 52us/step - loss: 0.7071 - acc: 0.4820\n",
      "Epoch 8/20\n",
      "1000/1000 [==============================] - 0s 46us/step - loss: 0.7020 - acc: 0.5030\n",
      "Epoch 9/20\n",
      "1000/1000 [==============================] - 0s 65us/step - loss: 0.6958 - acc: 0.5160\n",
      "Epoch 10/20\n",
      "1000/1000 [==============================] - 0s 45us/step - loss: 0.6971 - acc: 0.5120\n",
      "Epoch 11/20\n",
      "1000/1000 [==============================] - 0s 50us/step - loss: 0.6974 - acc: 0.5050\n",
      "Epoch 12/20\n",
      "1000/1000 [==============================] - 0s 46us/step - loss: 0.6917 - acc: 0.5330\n",
      "Epoch 13/20\n",
      "1000/1000 [==============================] - 0s 51us/step - loss: 0.6919 - acc: 0.5220\n",
      "Epoch 14/20\n",
      "1000/1000 [==============================] - 0s 43us/step - loss: 0.7014 - acc: 0.4850\n",
      "Epoch 15/20\n",
      "1000/1000 [==============================] - 0s 49us/step - loss: 0.6965 - acc: 0.5080\n",
      "Epoch 16/20\n",
      "1000/1000 [==============================] - 0s 48us/step - loss: 0.6972 - acc: 0.4990\n",
      "Epoch 17/20\n",
      "1000/1000 [==============================] - 0s 48us/step - loss: 0.6925 - acc: 0.5220\n",
      "Epoch 18/20\n",
      "1000/1000 [==============================] - 0s 48us/step - loss: 0.6901 - acc: 0.5330\n",
      "Epoch 19/20\n",
      "1000/1000 [==============================] - 0s 53us/step - loss: 0.6871 - acc: 0.5400\n",
      "Epoch 20/20\n",
      "1000/1000 [==============================] - 0s 90us/step - loss: 0.6922 - acc: 0.5330\n"
     ]
    },
    {
     "data": {
      "text/plain": [
       "<keras.callbacks.History at 0x24b20324d30>"
      ]
     },
     "execution_count": 7,
     "metadata": {},
     "output_type": "execute_result"
    }
   ],
   "source": [
    "model.fit(x_train, y_train, epochs=20, batch_size=128)"
   ]
  },
  {
   "cell_type": "code",
   "execution_count": 8,
   "metadata": {},
   "outputs": [
    {
     "name": "stdout",
     "output_type": "stream",
     "text": [
      "\r",
      "100/100 [==============================] - 0s 2ms/step\n"
     ]
    }
   ],
   "source": [
    "score = model.evaluate(x_test, y_test, batch_size=128)"
   ]
  },
  {
   "cell_type": "code",
   "execution_count": null,
   "metadata": {},
   "outputs": [],
   "source": []
  }
 ],
 "metadata": {
  "kernelspec": {
   "display_name": "Python 3",
   "language": "python",
   "name": "python3"
  },
  "language_info": {
   "codemirror_mode": {
    "name": "ipython",
    "version": 3
   },
   "file_extension": ".py",
   "mimetype": "text/x-python",
   "name": "python",
   "nbconvert_exporter": "python",
   "pygments_lexer": "ipython3",
   "version": "3.6.5"
  }
 },
 "nbformat": 4,
 "nbformat_minor": 2
}
