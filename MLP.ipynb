{
 "cells": [
  {
   "cell_type": "code",
   "execution_count": 2,
   "metadata": {},
   "outputs": [],
   "source": [
    "import keras\n",
    "from keras.models import Sequential\n",
    "from keras.layers import Dense, Dropout, Activation\n",
    "from keras.optimizers import SGD"
   ]
  },
  {
   "cell_type": "code",
   "execution_count": 3,
   "metadata": {},
   "outputs": [],
   "source": [
    "import numpy as np"
   ]
  },
  {
   "cell_type": "code",
   "execution_count": 6,
   "metadata": {},
   "outputs": [],
   "source": [
    "x_train = np.random.random((1000, 20))\n",
    "y_train = keras.utils.to_categorical(np.random.randint(10, size=(1000, 1)),num_classes=10)"
   ]
  },
  {
   "cell_type": "code",
   "execution_count": 7,
   "metadata": {},
   "outputs": [],
   "source": [
    "x_test = np.random.random((100, 20))\n",
    "y_test = keras.utils.to_categorical(np.random.randint(10, size=(100, 1)), num_classes=10)"
   ]
  },
  {
   "cell_type": "code",
   "execution_count": 8,
   "metadata": {},
   "outputs": [],
   "source": [
    "model = Sequential()"
   ]
  },
  {
   "cell_type": "code",
   "execution_count": 9,
   "metadata": {},
   "outputs": [],
   "source": [
    "model.add(Dense(64, activation='relu', input_dim=20))\n",
    "model.add(Dropout(0.5))\n",
    "model.add(Dense(64, activation='relu'))\n",
    "model.add(Dropout(0.5))\n",
    "model.add(Dense(10, activation='softmax'))"
   ]
  },
  {
   "cell_type": "code",
   "execution_count": 10,
   "metadata": {},
   "outputs": [],
   "source": [
    "sgd = SGD(lr=0.01, decay=1e-6, momentum=0.9, nesterov=True)"
   ]
  },
  {
   "cell_type": "code",
   "execution_count": 11,
   "metadata": {},
   "outputs": [],
   "source": [
    "model.compile(loss='categorical_crossentropy',\n",
    "              optimizer=sgd,\n",
    "              metrics=['accuracy'])"
   ]
  },
  {
   "cell_type": "code",
   "execution_count": 12,
   "metadata": {},
   "outputs": [
    {
     "name": "stdout",
     "output_type": "stream",
     "text": [
      "Epoch 1/20\n",
      "1000/1000 [==============================] - 2s 2ms/step - loss: 2.4553 - acc: 0.0970\n",
      "Epoch 2/20\n",
      "1000/1000 [==============================] - 0s 48us/step - loss: 2.3995 - acc: 0.1000\n",
      "Epoch 3/20\n",
      "1000/1000 [==============================] - 0s 68us/step - loss: 2.3419 - acc: 0.1200\n",
      "Epoch 4/20\n",
      "1000/1000 [==============================] - 0s 49us/step - loss: 2.3280 - acc: 0.1230\n",
      "Epoch 5/20\n",
      "1000/1000 [==============================] - 0s 52us/step - loss: 2.3186 - acc: 0.0990\n",
      "Epoch 6/20\n",
      "1000/1000 [==============================] - 0s 51us/step - loss: 2.3281 - acc: 0.0970\n",
      "Epoch 7/20\n",
      "1000/1000 [==============================] - 0s 52us/step - loss: 2.3306 - acc: 0.0960\n",
      "Epoch 8/20\n",
      "1000/1000 [==============================] - 0s 48us/step - loss: 2.3203 - acc: 0.1050\n",
      "Epoch 9/20\n",
      "1000/1000 [==============================] - 0s 69us/step - loss: 2.3063 - acc: 0.1160\n",
      "Epoch 10/20\n",
      "1000/1000 [==============================] - 0s 55us/step - loss: 2.3173 - acc: 0.0950\n",
      "Epoch 11/20\n",
      "1000/1000 [==============================] - 0s 49us/step - loss: 2.3070 - acc: 0.0970\n",
      "Epoch 12/20\n",
      "1000/1000 [==============================] - 0s 46us/step - loss: 2.3095 - acc: 0.1020\n",
      "Epoch 13/20\n",
      "1000/1000 [==============================] - 0s 49us/step - loss: 2.3064 - acc: 0.1010\n",
      "Epoch 14/20\n",
      "1000/1000 [==============================] - 0s 55us/step - loss: 2.3101 - acc: 0.1080\n",
      "Epoch 15/20\n",
      "1000/1000 [==============================] - 0s 48us/step - loss: 2.3116 - acc: 0.1040\n",
      "Epoch 16/20\n",
      "1000/1000 [==============================] - 0s 43us/step - loss: 2.3052 - acc: 0.1050\n",
      "Epoch 17/20\n",
      "1000/1000 [==============================] - 0s 42us/step - loss: 2.3014 - acc: 0.1150\n",
      "Epoch 18/20\n",
      "1000/1000 [==============================] - 0s 43us/step - loss: 2.3036 - acc: 0.1070\n",
      "Epoch 19/20\n",
      "1000/1000 [==============================] - 0s 52us/step - loss: 2.3081 - acc: 0.1050\n",
      "Epoch 20/20\n",
      "1000/1000 [==============================] - 0s 46us/step - loss: 2.3027 - acc: 0.1020\n"
     ]
    },
    {
     "data": {
      "text/plain": [
       "<keras.callbacks.History at 0x250a3d6b390>"
      ]
     },
     "execution_count": 12,
     "metadata": {},
     "output_type": "execute_result"
    }
   ],
   "source": [
    "model.fit(x_train, y_train, epochs=20, batch_size=128)"
   ]
  },
  {
   "cell_type": "code",
   "execution_count": 13,
   "metadata": {},
   "outputs": [
    {
     "name": "stdout",
     "output_type": "stream",
     "text": [
      "\r",
      "100/100 [==============================] - 0s 1ms/step\n"
     ]
    }
   ],
   "source": [
    "score = model.evaluate(x_test, y_test, batch_size=128)"
   ]
  },
  {
   "cell_type": "code",
   "execution_count": null,
   "metadata": {},
   "outputs": [],
   "source": []
  }
 ],
 "metadata": {
  "kernelspec": {
   "display_name": "Python 3",
   "language": "python",
   "name": "python3"
  },
  "language_info": {
   "codemirror_mode": {
    "name": "ipython",
    "version": 3
   },
   "file_extension": ".py",
   "mimetype": "text/x-python",
   "name": "python",
   "nbconvert_exporter": "python",
   "pygments_lexer": "ipython3",
   "version": "3.6.5"
  }
 },
 "nbformat": 4,
 "nbformat_minor": 2
}
