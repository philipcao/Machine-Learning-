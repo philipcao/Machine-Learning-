{
 "cells": [
  {
   "cell_type": "code",
   "execution_count": 1,
   "metadata": {},
   "outputs": [],
   "source": [
    "import tensorflow as tf\n",
    "import tensorflow.feature_column as fc\n",
    "import os\n",
    "import sys\n",
    "import matplotlib.pyplot as plt\n",
    "from IPython.display import clear_output\n",
    "\n",
    "tf.enable_eager_execution()"
   ]
  },
  {
   "cell_type": "code",
   "execution_count": 2,
   "metadata": {},
   "outputs": [],
   "source": [
    "! pip install -q requests"
   ]
  },
  {
   "cell_type": "code",
   "execution_count": 1,
   "metadata": {},
   "outputs": [
    {
     "name": "stderr",
     "output_type": "stream",
     "text": [
      "fatal: destination path 'models' already exists and is not an empty directory.\n"
     ]
    }
   ],
   "source": [
    "! git clone --depth 1 https://github.com/tensorflow/models"
   ]
  },
  {
   "cell_type": "code",
   "execution_count": 3,
   "metadata": {},
   "outputs": [],
   "source": [
    "import os"
   ]
  },
  {
   "cell_type": "code",
   "execution_count": 5,
   "metadata": {},
   "outputs": [],
   "source": [
    "import sys"
   ]
  },
  {
   "cell_type": "code",
   "execution_count": 6,
   "metadata": {},
   "outputs": [],
   "source": [
    "models_path = os.path.join(os.getcwd(), 'models')\n",
    "sys.path.append(models_path)"
   ]
  },
  {
   "cell_type": "code",
   "execution_count": 7,
   "metadata": {},
   "outputs": [],
   "source": [
    "from official.wide_deep import census_dataset\n",
    "from official.wide_deep import census_main\n",
    "census_dataset.download(\"/tmp/census_data\")"
   ]
  },
  {
   "cell_type": "code",
   "execution_count": 8,
   "metadata": {},
   "outputs": [],
   "source": [
    "#export PYTHONPATH=${PYTHONPATH}:\"$(pwd)/models\"\n",
    "#running from python you need to set the `os.environ` or the subprocess will not see the directory.\n",
    "\n",
    "if \"PYTHONPATH\" in os.environ:\n",
    "  os.environ['PYTHONPATH'] += os.pathsep +  models_path\n",
    "else:\n",
    "  os.environ['PYTHONPATH'] = models_path"
   ]
  },
  {
   "cell_type": "code",
   "execution_count": 9,
   "metadata": {},
   "outputs": [
    {
     "name": "stdout",
     "output_type": "stream",
     "text": [
      "Train DNN on census income dataset.\n",
      "flags:\n"
     ]
    },
    {
     "name": "stderr",
     "output_type": "stream",
     "text": [
      "2019-01-22 11:17:31.307795: I tensorflow/core/platform/cpu_feature_guard.cc:141] Your CPU supports instructions that this TensorFlow binary was not compiled to use: AVX\n",
      "2019-01-22 11:17:31.887783: I tensorflow/core/common_runtime/gpu/gpu_device.cc:1432] Found device 0 with properties: \n",
      "name: GeForce GT 620M major: 2 minor: 1 memoryClockRate(GHz): 1.25\n",
      "pciBusID: 0000:01:00.0\n",
      "totalMemory: 1.00GiB freeMemory: 824.06MiB\n",
      "2019-01-22 11:17:31.893372: I tensorflow/core/common_runtime/gpu/gpu_device.cc:1482] Ignoring visible gpu device (device: 0, name: GeForce GT 620M, pci bus id: 0000:01:00.0, compute capability: 2.1) with Cuda compute capability 2.1. The minimum required Cuda capability is 3.0.\n",
      "2019-01-22 11:17:31.894730: I tensorflow/core/common_runtime/gpu/gpu_device.cc:982] Device interconnect StreamExecutor with strength 1 edge matrix:\n",
      "2019-01-22 11:17:31.895440: I tensorflow/core/common_runtime/gpu/gpu_device.cc:988]      0 \n",
      "2019-01-22 11:17:31.895831: I tensorflow/core/common_runtime/gpu/gpu_device.cc:1001] 0:   N \n",
      "Traceback (most recent call last):\n",
      "  File \"C:\\Users\\Yuan\\Anaconda3\\lib\\runpy.py\", line 193, in _run_module_as_main\n",
      "    \"__main__\", mod_spec)\n",
      "  File \"C:\\Users\\Yuan\\Anaconda3\\lib\\runpy.py\", line 85, in _run_code\n",
      "    exec(code, run_globals)\n",
      "  File \"C:\\Users\\Yuan\\models\\official\\wide_deep\\census_main.py\", line 116, in <module>\n",
      "    absl_app.run(main)\n",
      "  File \"C:\\Users\\Yuan\\Anaconda3\\lib\\site-packages\\absl\\app.py\", line 294, in run\n",
      "    flags_parser,\n",
      "  File \"C:\\Users\\Yuan\\Anaconda3\\lib\\site-packages\\absl\\app.py\", line 351, in _run_init\n",
      "    flags_parser=flags_parser,\n",
      "  File \"C:\\Users\\Yuan\\Anaconda3\\lib\\site-packages\\absl\\app.py\", line 213, in _register_and_parse_flags_with_usage\n",
      "    args_to_main = flags_parser(original_argv)\n",
      "  File \"C:\\Users\\Yuan\\Anaconda3\\lib\\site-packages\\absl\\app.py\", line 159, in parse_flags_with_usage\n",
      "    return FLAGS(args)\n",
      "  File \"C:\\Users\\Yuan\\Anaconda3\\lib\\site-packages\\absl\\flags\\_flagvalues.py\", line 625, in __call__\n",
      "    unknown_flags, unparsed_args = self._parse_args(args, known_only)\n",
      "  File \"C:\\Users\\Yuan\\Anaconda3\\lib\\site-packages\\absl\\flags\\_flagvalues.py\", line 761, in _parse_args\n",
      "    flag.parse(value)\n",
      "  File \"C:\\Users\\Yuan\\Anaconda3\\lib\\site-packages\\absl\\app.py\", line 107, in parse\n",
      "    usage(shorthelp=True, writeto_stdout=True)\n",
      "  File \"C:\\Users\\Yuan\\Anaconda3\\lib\\site-packages\\absl\\app.py\", line 405, in usage\n",
      "    stdfile.write(flag_str)\n",
      "UnicodeEncodeError: 'gbk' codec can't encode character '\\ufeff' in position 1087: illegal multibyte sequence\n"
     ]
    }
   ],
   "source": [
    "! python -m official.wide_deep.census_main --help"
   ]
  },
  {
   "cell_type": "code",
   "execution_count": null,
   "metadata": {},
   "outputs": [],
   "source": [
    "!python -m official.wide_deep.census_main --model_type=wide --train_epochs=2"
   ]
  },
  {
   "cell_type": "code",
   "execution_count": null,
   "metadata": {},
   "outputs": [],
   "source": []
  }
 ],
 "metadata": {
  "kernelspec": {
   "display_name": "Python 3",
   "language": "python",
   "name": "python3"
  },
  "language_info": {
   "codemirror_mode": {
    "name": "ipython",
    "version": 3
   },
   "file_extension": ".py",
   "mimetype": "text/x-python",
   "name": "python",
   "nbconvert_exporter": "python",
   "pygments_lexer": "ipython3",
   "version": "3.6.5"
  }
 },
 "nbformat": 4,
 "nbformat_minor": 2
}
